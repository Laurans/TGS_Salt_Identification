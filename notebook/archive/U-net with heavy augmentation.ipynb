{
 "cells": [
  {
   "cell_type": "code",
   "execution_count": 1,
   "metadata": {},
   "outputs": [
    {
     "name": "stderr",
     "output_type": "stream",
     "text": [
      "/usr/local/lib/python3.5/dist-packages/h5py/__init__.py:36: FutureWarning: Conversion of the second argument of issubdtype from `float` to `np.floating` is deprecated. In future, it will be treated as `np.float64 == np.dtype(float).type`.\n",
      "  from ._conv import register_converters as _register_converters\n",
      "Using TensorFlow backend.\n"
     ]
    }
   ],
   "source": [
    "import os\n",
    "import sys\n",
    "import random\n",
    "import warnings\n",
    "\n",
    "import pandas as pd\n",
    "import numpy as np\n",
    "import matplotlib.pyplot as plt\n",
    "%matplotlib inline\n",
    "plt.style.use('seaborn-white')\n",
    "import seaborn as sns\n",
    "sns.set_style(\"white\")\n",
    "\n",
    "import cv2\n",
    "\n",
    "from tqdm import tqdm_notebook, tnrange, tqdm\n",
    "from itertools import chain\n",
    "from skimage.io import imread, imshow, concatenate_images\n",
    "from skimage.transform import resize\n",
    "from skimage.morphology import label\n",
    "\n",
    "from keras.models import Model, load_model\n",
    "from keras.layers import Input, Dropout\n",
    "from keras.layers.core import Lambda\n",
    "from keras.layers.convolutional import Conv2D, Conv2DTranspose\n",
    "from keras.layers.pooling import MaxPooling2D\n",
    "from keras.layers.merge import concatenate\n",
    "from keras.callbacks import EarlyStopping, ModelCheckpoint, ReduceLROnPlateau\n",
    "from keras import backend as K\n",
    "\n",
    "from scipy import misc, ndimage\n",
    "from scipy.ndimage.interpolation import map_coordinates\n",
    "from scipy.ndimage.filters import gaussian_filter\n",
    "from skimage.morphology import reconstruction, disk\n",
    "from skimage.filters import rank\n",
    "from skimage import img_as_float, exposure\n",
    "\n",
    "import tensorflow as tf\n",
    "from imgaug import augmenters as iaa\n",
    "from keras.preprocessing.image import ImageDataGenerator, array_to_img, img_to_array, load_img\n",
    "\n",
    "from sklearn.model_selection import train_test_split"
   ]
  },
  {
   "cell_type": "code",
   "execution_count": 2,
   "metadata": {},
   "outputs": [],
   "source": [
    "# Set some parameters\n",
    "im_width = 128\n",
    "im_height = 128\n",
    "im_chan = 1\n",
    "img_size_ori = 101\n",
    "\n",
    "path_train = '../data/train/'\n",
    "path_test = '../data/test/'"
   ]
  },
  {
   "cell_type": "markdown",
   "metadata": {},
   "source": [
    "## Fetch data"
   ]
  },
  {
   "cell_type": "code",
   "execution_count": 3,
   "metadata": {},
   "outputs": [],
   "source": [
    "train_ids = next(os.walk(path_train+\"images\"))[2]\n",
    "test_ids = next(os.walk(path_test+'images'))[2]"
   ]
  },
  {
   "cell_type": "code",
   "execution_count": 4,
   "metadata": {},
   "outputs": [],
   "source": [
    "def cov_to_class(val):    \n",
    "    for i in range(0, 11):\n",
    "        if val * 10 <= i :\n",
    "            return i"
   ]
  },
  {
   "cell_type": "code",
   "execution_count": 5,
   "metadata": {},
   "outputs": [
    {
     "name": "stdout",
     "output_type": "stream",
     "text": [
      "Getting and resizing train images and mask ...\n"
     ]
    },
    {
     "data": {
      "application/vnd.jupyter.widget-view+json": {
       "model_id": "ff68597bc69e4146a2dfa86312cd5052",
       "version_major": 2,
       "version_minor": 0
      },
      "text/plain": [
       "HBox(children=(IntProgress(value=0, max=4000), HTML(value='')))"
      ]
     },
     "metadata": {},
     "output_type": "display_data"
    },
    {
     "name": "stderr",
     "output_type": "stream",
     "text": [
      "/usr/local/lib/python3.5/dist-packages/skimage/transform/_warps.py:110: UserWarning: Anti-aliasing will be enabled by default in skimage 0.15 to avoid aliasing artifacts when down-sampling images.\n",
      "  warn(\"Anti-aliasing will be enabled by default in skimage 0.15 to \"\n"
     ]
    },
    {
     "name": "stdout",
     "output_type": "stream",
     "text": [
      "\n",
      "Done!\n"
     ]
    }
   ],
   "source": [
    "# Get and resize train images and masks\n",
    "X_train = np.zeros((len(train_ids), im_height, im_width, im_chan), dtype=np.uint8)\n",
    "coverage = np.zeros((len(train_ids), 2), dtype=np.float32)\n",
    "Y_train = np.zeros((len(train_ids), im_height, im_width, 1), dtype=np.uint8)\n",
    "\n",
    "print('Getting and resizing train images and mask ...')\n",
    "sys.stdout.flush()\n",
    "\n",
    "for n, id_ in enumerate(tqdm_notebook(train_ids)):\n",
    "    path = path_train\n",
    "    img = load_img(path + '/images/' + id_, color_mode = \"grayscale\")\n",
    "    x = img_to_array(img)\n",
    "    x = resize(x, (128, 128, 1), mode='constant', preserve_range=True)\n",
    "    X_train[n] = x\n",
    "    \n",
    "    mask = img_to_array(load_img(path + '/masks/' + id_, color_mode = \"grayscale\"))\n",
    "    Y_train[n] = resize(mask, (128, 128, 1), mode='constant', preserve_range=True)\n",
    "    \n",
    "    coverage[n, 0] = (mask / 255).sum() / img_size_ori**2\n",
    "    coverage[n, 1] = cov_to_class(coverage[n, 0])\n",
    "    \n",
    "print('Done!')"
   ]
  },
  {
   "cell_type": "markdown",
   "metadata": {},
   "source": [
    "## Create train/validation split stratified by salt coverage"
   ]
  },
  {
   "cell_type": "code",
   "execution_count": 28,
   "metadata": {},
   "outputs": [],
   "source": [
    "x_train, x_valid, y_train, y_valid, cov_train, cov_valid = train_test_split(\n",
    "X_train, Y_train, coverage, test_size=0.1, stratify=coverage[:, 1], random_state=1337)"
   ]
  },
  {
   "cell_type": "code",
   "execution_count": 29,
   "metadata": {},
   "outputs": [
    {
     "data": {
      "text/plain": [
       "(3600, 128, 128, 1)"
      ]
     },
     "execution_count": 29,
     "metadata": {},
     "output_type": "execute_result"
    }
   ],
   "source": [
    "x_train.shape"
   ]
  },
  {
   "cell_type": "markdown",
   "metadata": {},
   "source": [
    "## Data augmentation"
   ]
  },
  {
   "cell_type": "code",
   "execution_count": 30,
   "metadata": {},
   "outputs": [
    {
     "name": "stdout",
     "output_type": "stream",
     "text": [
      "Flip left right done\n",
      "(7200, 128, 128, 1)\n"
     ]
    }
   ],
   "source": [
    "x_train_ = np.append(x_train, np.array( [np.fliplr(x) for x in x_train]), 0)\n",
    "y_train_ = np.append(y_train, np.array( [np.fliplr(x) for x in y_train]), 0)\n",
    "print('Flip left right done')\n",
    "print(x_train_.shape)"
   ]
  },
  {
   "cell_type": "code",
   "execution_count": 31,
   "metadata": {},
   "outputs": [
    {
     "name": "stdout",
     "output_type": "stream",
     "text": [
      "Flip up down done\n",
      "(10800, 128, 128, 1)\n"
     ]
    }
   ],
   "source": [
    "x_train_ = np.append(x_train_, np.array( [np.flipud(x) for x in x_train]), 0)\n",
    "y_train_ = np.append(y_train_, np.array( [np.flipud(x) for x in y_train]), 0)\n",
    "print('Flip up down done')\n",
    "print(x_train_.shape)"
   ]
  },
  {
   "cell_type": "code",
   "execution_count": 32,
   "metadata": {},
   "outputs": [
    {
     "data": {
      "application/vnd.jupyter.widget-view+json": {
       "model_id": "129060e0acab41d5b5492d69f9b3eb77",
       "version_major": 2,
       "version_minor": 0
      },
      "text/plain": [
       "HBox(children=(IntProgress(value=0, max=3600), HTML(value='')))"
      ]
     },
     "metadata": {},
     "output_type": "display_data"
    },
    {
     "name": "stdout",
     "output_type": "stream",
     "text": [
      "\n",
      "Filtering done\n"
     ]
    }
   ],
   "source": [
    "def filtering_regional_maxima(img):\n",
    "    image = img_as_float(img)\n",
    "    image = ndimage.gaussian_filter(image, 1)\n",
    "    \n",
    "    seed = np.copy(image)\n",
    "    seed[1:-1, 1:-1] = image.min()\n",
    "    mask = image\n",
    "    dilated = reconstruction(seed, mask, method='dilation') * 255\n",
    "    return np.array(dilated, dtype=np.uint8)\n",
    "\n",
    "x_train_ = np.append(x_train_, np.array( [filtering_regional_maxima(x) for x in tqdm_notebook(x_train)]), 0)\n",
    "y_train_ = np.vstack([y_train_, y_train.copy()])\n",
    "print('Filtering done')"
   ]
  },
  {
   "cell_type": "code",
   "execution_count": 33,
   "metadata": {},
   "outputs": [
    {
     "name": "stdout",
     "output_type": "stream",
     "text": [
      "(14400, 128, 128, 1)\n"
     ]
    }
   ],
   "source": [
    "print(x_train_.shape)"
   ]
  },
  {
   "cell_type": "code",
   "execution_count": 34,
   "metadata": {},
   "outputs": [
    {
     "data": {
      "application/vnd.jupyter.widget-view+json": {
       "model_id": "625a7b2f9e2a4611b879d489f1e7acf5",
       "version_major": 2,
       "version_minor": 0
      },
      "text/plain": [
       "HBox(children=(IntProgress(value=0, max=3600), HTML(value='')))"
      ]
     },
     "metadata": {},
     "output_type": "display_data"
    },
    {
     "name": "stderr",
     "output_type": "stream",
     "text": [
      "/usr/local/lib/python3.5/dist-packages/skimage/exposure/exposure.py:63: UserWarning: This might be a color image. The histogram will be computed on the flattened image. You can instead apply this function to each color channel.\n",
      "  warn(\"This might be a color image. The histogram will be \"\n"
     ]
    },
    {
     "name": "stdout",
     "output_type": "stream",
     "text": [
      "\n",
      "Global equalize done\n",
      "(18000, 128, 128, 1)\n",
      "(18000, 128, 128, 1)\n"
     ]
    }
   ],
   "source": [
    "def global_equalize(img):\n",
    "    return np.array(exposure.equalize_hist(img) * 255, dtype=np.uint8)\n",
    "\n",
    "x_train_ = np.append(x_train_, np.array([global_equalize(x) for x in tqdm_notebook(x_train)]), 0)\n",
    "y_train_ = np.vstack([y_train_, y_train.copy()])\n",
    "print('Global equalize done')\n",
    "print(x_train_.shape)\n",
    "print(y_train_.shape)"
   ]
  },
  {
   "cell_type": "code",
   "execution_count": 35,
   "metadata": {},
   "outputs": [
    {
     "data": {
      "application/vnd.jupyter.widget-view+json": {
       "model_id": "9cd67ee9736a4e668cc32ad37fba6873",
       "version_major": 2,
       "version_minor": 0
      },
      "text/plain": [
       "HBox(children=(IntProgress(value=0, max=3600), HTML(value='')))"
      ]
     },
     "metadata": {},
     "output_type": "display_data"
    },
    {
     "name": "stdout",
     "output_type": "stream",
     "text": [
      "\n"
     ]
    },
    {
     "data": {
      "application/vnd.jupyter.widget-view+json": {
       "model_id": "b7f8f6eb975d475c813f25982ea5e2a5",
       "version_major": 2,
       "version_minor": 0
      },
      "text/plain": [
       "HBox(children=(IntProgress(value=0, max=3600), HTML(value='')))"
      ]
     },
     "metadata": {},
     "output_type": "display_data"
    },
    {
     "name": "stdout",
     "output_type": "stream",
     "text": [
      "\n",
      "Elastic transform done\n",
      "(21600, 128, 128, 1)\n",
      "(21600, 128, 128, 1)\n"
     ]
    }
   ],
   "source": [
    "def elastic_transform(image, alpha, sigma, seed=None):\n",
    "    \"\"\"Elastic deformation of images as described in [Simard2003]_.\n",
    "    .. [Simard2003] Simard, Steinkraus and Platt, \"Best Practices for\n",
    "       Convolutional Neural Networks applied to Visual Document Analysis\", in\n",
    "       Proc. of the International Conference on Document Analysis and\n",
    "       Recognition, 2003.\n",
    "    \"\"\"\n",
    "    \n",
    "    if seed is None:\n",
    "        random_state = np.random.RandomState()\n",
    "    else:\n",
    "        random_state = np.random.RandomState(seed=seed)\n",
    "    \n",
    "    shape = image.shape\n",
    "    dx = gaussian_filter((random_state.rand(*shape) * 2 - 1), sigma, mode=\"constant\", cval=0) * alpha\n",
    "    dy = gaussian_filter((random_state.rand(*shape) * 2 - 1), sigma, mode=\"constant\", cval=0) * alpha\n",
    "\n",
    "    x, y = np.meshgrid(np.arange(shape[0]), np.arange(shape[1]))\n",
    "    indices = np.reshape(y+dy, (-1, 1)), np.reshape(x+dx, (-1, 1))\n",
    "\n",
    "    return map_coordinates(image, indices, order=1).reshape(shape)\n",
    "\n",
    "x_train_ = np.append(x_train_, np.array([np.expand_dims(elastic_transform(x.squeeze(), 20, 4, 20), -1) \n",
    "                              for x in tqdm_notebook(x_train)]), 0)\n",
    "y_train_ = np.append(y_train_, np.array([np.expand_dims(elastic_transform(x.squeeze(), 20, 4, 20), -1) \n",
    "                              for x in tqdm_notebook(y_train)]), 0)\n",
    "\n",
    "print('Elastic transform done')\n",
    "print(x_train_.shape)\n",
    "print(y_train_.shape)"
   ]
  },
  {
   "cell_type": "code",
   "execution_count": 36,
   "metadata": {},
   "outputs": [
    {
     "data": {
      "application/vnd.jupyter.widget-view+json": {
       "model_id": "b35e9eb5afb64b2f897ac379f6197b99",
       "version_major": 2,
       "version_minor": 0
      },
      "text/plain": [
       "HBox(children=(IntProgress(value=0, max=3600), HTML(value='')))"
      ]
     },
     "metadata": {},
     "output_type": "display_data"
    },
    {
     "name": "stdout",
     "output_type": "stream",
     "text": [
      "\n"
     ]
    }
   ],
   "source": [
    "aug = iaa.Invert(p=1)\n",
    "\n",
    "x_train_ = np.append(x_train_, np.array([aug.augment_image(x) for x in tqdm_notebook(x_train)]), 0)\n",
    "y_train_ = np.vstack([y_train_, y_train.copy()])\n",
    "\n",
    "print(x_train_.shape)"
   ]
  },
  {
   "cell_type": "code",
   "execution_count": 38,
   "metadata": {},
   "outputs": [
    {
     "data": {
      "application/vnd.jupyter.widget-view+json": {
       "model_id": "",
       "version_major": 2,
       "version_minor": 0
      },
      "text/plain": [
       "HBox(children=(IntProgress(value=0, max=3600), HTML(value='')))"
      ]
     },
     "metadata": {},
     "output_type": "display_data"
    },
    {
     "name": "stdout",
     "output_type": "stream",
     "text": [
      "\n",
      "(28800, 128, 128, 1)\n"
     ]
    }
   ],
   "source": [
    "aug = iaa.Add(value=-45)\n",
    "\n",
    "x_train_ = np.append(x_train_, np.array([aug.augment_image(x) for x in tqdm_notebook(x_train)]), 0)\n",
    "y_train_ = np.vstack([y_train_, y_train.copy()])\n",
    "\n",
    "print(x_train_.shape)"
   ]
  },
  {
   "cell_type": "code",
   "execution_count": 39,
   "metadata": {},
   "outputs": [
    {
     "data": {
      "application/vnd.jupyter.widget-view+json": {
       "model_id": "",
       "version_major": 2,
       "version_minor": 0
      },
      "text/plain": [
       "HBox(children=(IntProgress(value=0, max=3600), HTML(value='')))"
      ]
     },
     "metadata": {},
     "output_type": "display_data"
    },
    {
     "name": "stdout",
     "output_type": "stream",
     "text": [
      "\n",
      "(32400, 128, 128, 1)\n"
     ]
    }
   ],
   "source": [
    "aug = iaa.Sharpen(alpha=1, lightness=0.)\n",
    "\n",
    "x_train_ = np.append(x_train_, np.array([aug.augment_image(x) for x in tqdm_notebook(x_train)]), 0)\n",
    "y_train_ = np.vstack([y_train_, y_train.copy()])\n",
    "\n",
    "print(x_train_.shape)"
   ]
  },
  {
   "cell_type": "code",
   "execution_count": 40,
   "metadata": {},
   "outputs": [
    {
     "data": {
      "application/vnd.jupyter.widget-view+json": {
       "model_id": "362aad4b84124e16938fb7108d5ddfba",
       "version_major": 2,
       "version_minor": 0
      },
      "text/plain": [
       "HBox(children=(IntProgress(value=0, max=3600), HTML(value='')))"
      ]
     },
     "metadata": {},
     "output_type": "display_data"
    },
    {
     "name": "stdout",
     "output_type": "stream",
     "text": [
      "\n",
      "(36000, 128, 128, 1)\n"
     ]
    }
   ],
   "source": [
    "aug = iaa.Sharpen(alpha=1, lightness=2.)\n",
    "\n",
    "x_train_ = np.append(x_train_, np.array([aug.augment_image(x) for x in tqdm_notebook(x_train)]), 0)\n",
    "y_train_ = np.vstack([y_train_, y_train.copy()])\n",
    "\n",
    "print(x_train_.shape)"
   ]
  },
  {
   "cell_type": "code",
   "execution_count": 41,
   "metadata": {},
   "outputs": [
    {
     "data": {
      "application/vnd.jupyter.widget-view+json": {
       "model_id": "cd113e01b5294554aa444b779e35ae2d",
       "version_major": 2,
       "version_minor": 0
      },
      "text/plain": [
       "HBox(children=(IntProgress(value=0, max=3600), HTML(value='')))"
      ]
     },
     "metadata": {},
     "output_type": "display_data"
    },
    {
     "name": "stdout",
     "output_type": "stream",
     "text": [
      "\n",
      "(39600, 128, 128, 1)\n"
     ]
    }
   ],
   "source": [
    "aug = iaa.Emboss(alpha=1, strength=0.)\n",
    "\n",
    "x_train_ = np.append(x_train_, np.array([aug.augment_image(x) for x in tqdm_notebook(x_train)]), 0)\n",
    "y_train_ = np.vstack([y_train_, y_train.copy()])\n",
    "\n",
    "print(x_train_.shape)"
   ]
  },
  {
   "cell_type": "code",
   "execution_count": 42,
   "metadata": {},
   "outputs": [
    {
     "data": {
      "application/vnd.jupyter.widget-view+json": {
       "model_id": "e6c32e51ed994c8ea91a11c978f316b7",
       "version_major": 2,
       "version_minor": 0
      },
      "text/plain": [
       "HBox(children=(IntProgress(value=0, max=3600), HTML(value='')))"
      ]
     },
     "metadata": {},
     "output_type": "display_data"
    },
    {
     "name": "stdout",
     "output_type": "stream",
     "text": [
      "\n",
      "(43200, 128, 128, 1)\n"
     ]
    }
   ],
   "source": [
    "aug = iaa.Emboss(alpha=1, strength=2.)\n",
    "\n",
    "x_train_ = np.append(x_train_, np.array([aug.augment_image(x) for x in tqdm_notebook(x_train)]), 0)\n",
    "y_train_ = np.vstack([y_train_, y_train.copy()])\n",
    "\n",
    "print(x_train_.shape)"
   ]
  },
  {
   "cell_type": "code",
   "execution_count": 43,
   "metadata": {},
   "outputs": [
    {
     "data": {
      "application/vnd.jupyter.widget-view+json": {
       "model_id": "2ed8a8b0bb0646669bdbdaf9d5e04ed7",
       "version_major": 2,
       "version_minor": 0
      },
      "text/plain": [
       "HBox(children=(IntProgress(value=0, max=3600), HTML(value='')))"
      ]
     },
     "metadata": {},
     "output_type": "display_data"
    },
    {
     "name": "stdout",
     "output_type": "stream",
     "text": [
      "\n",
      "(46800, 128, 128, 1)\n"
     ]
    }
   ],
   "source": [
    "aug = iaa.AdditiveGaussianNoise(scale=0.1*255)\n",
    "\n",
    "x_train_ = np.append(x_train_, np.array([aug.augment_image(x) for x in tqdm_notebook(x_train)]), 0)\n",
    "y_train_ = np.vstack([y_train_, y_train.copy()])\n",
    "\n",
    "print(x_train_.shape)"
   ]
  },
  {
   "cell_type": "code",
   "execution_count": 44,
   "metadata": {},
   "outputs": [
    {
     "data": {
      "application/vnd.jupyter.widget-view+json": {
       "model_id": "",
       "version_major": 2,
       "version_minor": 0
      },
      "text/plain": [
       "HBox(children=(IntProgress(value=0, max=3600), HTML(value='')))"
      ]
     },
     "metadata": {},
     "output_type": "display_data"
    },
    {
     "name": "stdout",
     "output_type": "stream",
     "text": [
      "\n",
      "(50400, 128, 128, 1)\n"
     ]
    }
   ],
   "source": [
    "aug = iaa.CoarseDropout(p=0.2, size_percent=0.3)\n",
    "\n",
    "x_train_ = np.append(x_train_, np.array([aug.augment_image(x) for x in tqdm_notebook(x_train)]), 0)\n",
    "y_train_ = np.vstack([y_train_, y_train.copy()])\n",
    "\n",
    "print(x_train_.shape)"
   ]
  },
  {
   "cell_type": "code",
   "execution_count": 45,
   "metadata": {},
   "outputs": [
    {
     "data": {
      "application/vnd.jupyter.widget-view+json": {
       "model_id": "",
       "version_major": 2,
       "version_minor": 0
      },
      "text/plain": [
       "HBox(children=(IntProgress(value=0, max=3600), HTML(value='')))"
      ]
     },
     "metadata": {},
     "output_type": "display_data"
    },
    {
     "name": "stdout",
     "output_type": "stream",
     "text": [
      "\n"
     ]
    },
    {
     "data": {
      "application/vnd.jupyter.widget-view+json": {
       "model_id": "",
       "version_major": 2,
       "version_minor": 0
      },
      "text/plain": [
       "HBox(children=(IntProgress(value=0, max=3600), HTML(value='')))"
      ]
     },
     "metadata": {},
     "output_type": "display_data"
    },
    {
     "name": "stdout",
     "output_type": "stream",
     "text": [
      "\n",
      "(54000, 128, 128, 1)\n",
      "(54000, 128, 128, 1)\n"
     ]
    }
   ],
   "source": [
    "aug = iaa.Affine(scale=1.9)\n",
    "\n",
    "x_train_ = np.append(x_train_, np.array([aug.augment_image(x) for x in tqdm_notebook(x_train)]), 0)\n",
    "y_train_ = np.append(y_train_, np.array([aug.augment_image(x) for x in tqdm_notebook(y_train)]), 0)\n",
    "\n",
    "print(x_train_.shape)\n",
    "print(y_train_.shape)"
   ]
  },
  {
   "cell_type": "code",
   "execution_count": 46,
   "metadata": {
    "scrolled": true
   },
   "outputs": [
    {
     "data": {
      "application/vnd.jupyter.widget-view+json": {
       "model_id": "",
       "version_major": 2,
       "version_minor": 0
      },
      "text/plain": [
       "HBox(children=(IntProgress(value=0, max=3600), HTML(value='')))"
      ]
     },
     "metadata": {},
     "output_type": "display_data"
    },
    {
     "name": "stdout",
     "output_type": "stream",
     "text": [
      "\n"
     ]
    },
    {
     "data": {
      "application/vnd.jupyter.widget-view+json": {
       "model_id": "",
       "version_major": 2,
       "version_minor": 0
      },
      "text/plain": [
       "HBox(children=(IntProgress(value=0, max=3600), HTML(value='')))"
      ]
     },
     "metadata": {},
     "output_type": "display_data"
    },
    {
     "name": "stdout",
     "output_type": "stream",
     "text": [
      "\n",
      "(57600, 128, 128, 1)\n",
      "(57600, 128, 128, 1)\n"
     ]
    }
   ],
   "source": [
    "aug = iaa.Affine(scale=1.2)\n",
    "\n",
    "x_train_ = np.append(x_train_, np.array([aug.augment_image(x) for x in tqdm_notebook(x_train)]), 0)\n",
    "y_train_ = np.append(y_train_, np.array([aug.augment_image(x) for x in tqdm_notebook(y_train)]), 0)\n",
    "\n",
    "print(x_train_.shape)\n",
    "print(y_train_.shape)"
   ]
  },
  {
   "cell_type": "code",
   "execution_count": 47,
   "metadata": {
    "scrolled": true
   },
   "outputs": [
    {
     "data": {
      "application/vnd.jupyter.widget-view+json": {
       "model_id": "",
       "version_major": 2,
       "version_minor": 0
      },
      "text/plain": [
       "HBox(children=(IntProgress(value=0, max=3600), HTML(value='')))"
      ]
     },
     "metadata": {},
     "output_type": "display_data"
    },
    {
     "name": "stdout",
     "output_type": "stream",
     "text": [
      "\n"
     ]
    },
    {
     "data": {
      "application/vnd.jupyter.widget-view+json": {
       "model_id": "",
       "version_major": 2,
       "version_minor": 0
      },
      "text/plain": [
       "HBox(children=(IntProgress(value=0, max=3600), HTML(value='')))"
      ]
     },
     "metadata": {},
     "output_type": "display_data"
    },
    {
     "name": "stdout",
     "output_type": "stream",
     "text": [
      "\n",
      "(61200, 128, 128, 1)\n",
      "(61200, 128, 128, 1)\n"
     ]
    }
   ],
   "source": [
    "aug = iaa.Affine(translate_percent=-0.1)\n",
    "\n",
    "x_train_ = np.append(x_train_, np.array([aug.augment_image(x) for x in tqdm_notebook(x_train)]), 0)\n",
    "y_train_ = np.append(y_train_, np.array([aug.augment_image(x) for x in tqdm_notebook(y_train)]), 0)\n",
    "\n",
    "print(x_train_.shape)\n",
    "print(y_train_.shape)"
   ]
  },
  {
   "cell_type": "code",
   "execution_count": 48,
   "metadata": {
    "scrolled": true
   },
   "outputs": [
    {
     "data": {
      "application/vnd.jupyter.widget-view+json": {
       "model_id": "",
       "version_major": 2,
       "version_minor": 0
      },
      "text/plain": [
       "HBox(children=(IntProgress(value=0, max=3600), HTML(value='')))"
      ]
     },
     "metadata": {},
     "output_type": "display_data"
    },
    {
     "name": "stdout",
     "output_type": "stream",
     "text": [
      "\n"
     ]
    },
    {
     "data": {
      "application/vnd.jupyter.widget-view+json": {
       "model_id": "",
       "version_major": 2,
       "version_minor": 0
      },
      "text/plain": [
       "HBox(children=(IntProgress(value=0, max=3600), HTML(value='')))"
      ]
     },
     "metadata": {},
     "output_type": "display_data"
    },
    {
     "name": "stdout",
     "output_type": "stream",
     "text": [
      "\n",
      "(64800, 128, 128, 1)\n",
      "(64800, 128, 128, 1)\n"
     ]
    }
   ],
   "source": [
    "aug = iaa.Affine(translate_percent=-0.2)\n",
    "\n",
    "x_train_ = np.append(x_train_, np.array([aug.augment_image(x) for x in tqdm_notebook(x_train)]), 0)\n",
    "y_train_ = np.append(y_train_, np.array([aug.augment_image(x) for x in tqdm_notebook(y_train)]), 0)\n",
    "\n",
    "print(x_train_.shape)\n",
    "print(y_train_.shape)"
   ]
  },
  {
   "cell_type": "code",
   "execution_count": 49,
   "metadata": {
    "scrolled": true
   },
   "outputs": [
    {
     "data": {
      "application/vnd.jupyter.widget-view+json": {
       "model_id": "",
       "version_major": 2,
       "version_minor": 0
      },
      "text/plain": [
       "HBox(children=(IntProgress(value=0, max=3600), HTML(value='')))"
      ]
     },
     "metadata": {},
     "output_type": "display_data"
    },
    {
     "name": "stdout",
     "output_type": "stream",
     "text": [
      "\n"
     ]
    },
    {
     "data": {
      "application/vnd.jupyter.widget-view+json": {
       "model_id": "",
       "version_major": 2,
       "version_minor": 0
      },
      "text/plain": [
       "HBox(children=(IntProgress(value=0, max=3600), HTML(value='')))"
      ]
     },
     "metadata": {},
     "output_type": "display_data"
    },
    {
     "name": "stdout",
     "output_type": "stream",
     "text": [
      "\n",
      "(68400, 128, 128, 1)\n",
      "(68400, 128, 128, 1)\n"
     ]
    }
   ],
   "source": [
    "aug = iaa.Affine(translate_percent=0.2)\n",
    "\n",
    "x_train_ = np.append(x_train_, np.array([aug.augment_image(x) for x in tqdm_notebook(x_train)]), 0)\n",
    "y_train_ = np.append(y_train_, np.array([aug.augment_image(x) for x in tqdm_notebook(y_train)]), 0)\n",
    "\n",
    "print(x_train_.shape)\n",
    "print(y_train_.shape)"
   ]
  },
  {
   "cell_type": "code",
   "execution_count": 50,
   "metadata": {
    "scrolled": false
   },
   "outputs": [
    {
     "data": {
      "application/vnd.jupyter.widget-view+json": {
       "model_id": "",
       "version_major": 2,
       "version_minor": 0
      },
      "text/plain": [
       "HBox(children=(IntProgress(value=0, max=3600), HTML(value='')))"
      ]
     },
     "metadata": {},
     "output_type": "display_data"
    },
    {
     "name": "stdout",
     "output_type": "stream",
     "text": [
      "\n"
     ]
    },
    {
     "data": {
      "application/vnd.jupyter.widget-view+json": {
       "model_id": "",
       "version_major": 2,
       "version_minor": 0
      },
      "text/plain": [
       "HBox(children=(IntProgress(value=0, max=3600), HTML(value='')))"
      ]
     },
     "metadata": {},
     "output_type": "display_data"
    },
    {
     "name": "stdout",
     "output_type": "stream",
     "text": [
      "\n",
      "(72000, 128, 128, 1)\n",
      "(72000, 128, 128, 1)\n"
     ]
    }
   ],
   "source": [
    "aug = iaa.Affine(translate_percent=0.)\n",
    "\n",
    "x_train_ = np.append(x_train_, np.array([aug.augment_image(x) for x in tqdm_notebook(x_train)]), 0)\n",
    "y_train_ = np.append(y_train_, np.array([aug.augment_image(x) for x in tqdm_notebook(y_train)]), 0)\n",
    "\n",
    "print(x_train_.shape)\n",
    "print(y_train_.shape)"
   ]
  },
  {
   "cell_type": "code",
   "execution_count": 51,
   "metadata": {
    "scrolled": false
   },
   "outputs": [
    {
     "data": {
      "application/vnd.jupyter.widget-view+json": {
       "model_id": "",
       "version_major": 2,
       "version_minor": 0
      },
      "text/plain": [
       "HBox(children=(IntProgress(value=0, max=3600), HTML(value='')))"
      ]
     },
     "metadata": {},
     "output_type": "display_data"
    },
    {
     "name": "stdout",
     "output_type": "stream",
     "text": [
      "\n"
     ]
    },
    {
     "data": {
      "application/vnd.jupyter.widget-view+json": {
       "model_id": "",
       "version_major": 2,
       "version_minor": 0
      },
      "text/plain": [
       "HBox(children=(IntProgress(value=0, max=3600), HTML(value='')))"
      ]
     },
     "metadata": {},
     "output_type": "display_data"
    },
    {
     "name": "stdout",
     "output_type": "stream",
     "text": [
      "\n",
      "(75600, 128, 128, 1)\n",
      "(75600, 128, 128, 1)\n"
     ]
    }
   ],
   "source": [
    "aug = iaa.Affine(rotate=-90)\n",
    "\n",
    "x_train_ = np.append(x_train_, np.array([aug.augment_image(x) for x in tqdm_notebook(x_train)]), 0)\n",
    "y_train_ = np.append(y_train_, np.array([aug.augment_image(x) for x in tqdm_notebook(y_train)]), 0)\n",
    "\n",
    "print(x_train_.shape)\n",
    "print(y_train_.shape)"
   ]
  },
  {
   "cell_type": "code",
   "execution_count": 52,
   "metadata": {
    "scrolled": false
   },
   "outputs": [
    {
     "data": {
      "application/vnd.jupyter.widget-view+json": {
       "model_id": "b0595e493dac40ab8e3ad6dfd25ec290",
       "version_major": 2,
       "version_minor": 0
      },
      "text/plain": [
       "HBox(children=(IntProgress(value=0, max=3600), HTML(value='')))"
      ]
     },
     "metadata": {},
     "output_type": "display_data"
    },
    {
     "name": "stdout",
     "output_type": "stream",
     "text": [
      "\n"
     ]
    },
    {
     "data": {
      "application/vnd.jupyter.widget-view+json": {
       "model_id": "c20842c6eca94f1aa5beaec8dcbd31bd",
       "version_major": 2,
       "version_minor": 0
      },
      "text/plain": [
       "HBox(children=(IntProgress(value=0, max=3600), HTML(value='')))"
      ]
     },
     "metadata": {},
     "output_type": "display_data"
    },
    {
     "name": "stdout",
     "output_type": "stream",
     "text": [
      "\n",
      "(79200, 128, 128, 1)\n",
      "(79200, 128, 128, 1)\n"
     ]
    }
   ],
   "source": [
    "aug = iaa.Affine(rotate=90)\n",
    "\n",
    "x_train_ = np.append(x_train_, np.array([aug.augment_image(x) for x in tqdm_notebook(x_train)]), 0)\n",
    "y_train_ = np.append(y_train_, np.array([aug.augment_image(x) for x in tqdm_notebook(y_train)]), 0)\n",
    "\n",
    "print(x_train_.shape)\n",
    "print(y_train_.shape)"
   ]
  },
  {
   "cell_type": "code",
   "execution_count": 53,
   "metadata": {},
   "outputs": [
    {
     "data": {
      "application/vnd.jupyter.widget-view+json": {
       "model_id": "84cb775857bd4dfb9693045318ae4ed9",
       "version_major": 2,
       "version_minor": 0
      },
      "text/plain": [
       "HBox(children=(IntProgress(value=0, max=3600), HTML(value='')))"
      ]
     },
     "metadata": {},
     "output_type": "display_data"
    },
    {
     "name": "stdout",
     "output_type": "stream",
     "text": [
      "\n",
      "(82800, 128, 128, 1)\n"
     ]
    }
   ],
   "source": [
    "aug = iaa.ElasticTransformation(sigma=0.2, alpha=3.)\n",
    "\n",
    "x_train_ = np.append(x_train_, np.array([aug.augment_image(x) for x in tqdm_notebook(x_train)]), 0)\n",
    "y_train_ = np.vstack([y_train_, y_train.copy()])\n",
    "\n",
    "print(x_train_.shape)"
   ]
  },
  {
   "cell_type": "code",
   "execution_count": 58,
   "metadata": {},
   "outputs": [],
   "source": [
    "y_train_ = np.piecewise(y_train_, [y_train_ > 125, y_train_ < 125], [1, 0])"
   ]
  },
  {
   "cell_type": "code",
   "execution_count": 59,
   "metadata": {},
   "outputs": [],
   "source": [
    "y_valid = np.piecewise(y_valid, [y_valid > 125, y_valid < 125], [1, 0])"
   ]
  },
  {
   "cell_type": "markdown",
   "metadata": {},
   "source": [
    "## Build Model"
   ]
  },
  {
   "cell_type": "code",
   "execution_count": 60,
   "metadata": {},
   "outputs": [],
   "source": [
    "# Build U-Net Model\n",
    "def create_model():\n",
    "    inputs = Input((im_height, im_width, im_chan))\n",
    "    s = Lambda(lambda x: x/255)(inputs)\n",
    "\n",
    "    c1 = Conv2D(8, (3, 3), activation='relu', padding='same') (s)\n",
    "    c1 = Conv2D(8, (3, 3), activation='relu', padding='same') (c1)\n",
    "    p1 = MaxPooling2D((2, 2)) (c1)\n",
    "    p1 = Dropout(0.25)(p1)\n",
    "\n",
    "    c2 = Conv2D(16, (3, 3), activation='relu', padding='same') (p1)\n",
    "    c2 = Conv2D(16, (3, 3), activation='relu', padding='same') (c2)\n",
    "    p2 = MaxPooling2D((2, 2)) (c2)\n",
    "    p2 = Dropout(0.5)(p2)\n",
    "\n",
    "    c3 = Conv2D(32, (3, 3), activation='relu', padding='same') (p2)\n",
    "    c3 = Conv2D(32, (3, 3), activation='relu', padding='same') (c3)\n",
    "    p3 = MaxPooling2D((2, 2)) (c3)\n",
    "    p3 = Dropout(0.5)(p3)\n",
    "\n",
    "    c4 = Conv2D(64, (3, 3), activation='relu', padding='same') (p3)\n",
    "    c4 = Conv2D(64, (3, 3), activation='relu', padding='same') (c4)\n",
    "    p4 = MaxPooling2D(pool_size=(2, 2)) (c4)\n",
    "    p4 = Dropout(0.5)(p4)\n",
    "\n",
    "    c5 = Conv2D(128, (3, 3), activation='relu', padding='same') (p4)\n",
    "    c5 = Conv2D(128, (3, 3), activation='relu', padding='same') (c5)\n",
    "\n",
    "    u6 = Conv2DTranspose(64, (2, 2), strides=(2, 2), padding='same') (c5)\n",
    "    u6 = concatenate([u6, c4])\n",
    "    u6 = Dropout(0.5)(u6)\n",
    "    c6 = Conv2D(64, (3, 3), activation='relu', padding='same') (u6)\n",
    "    c6 = Conv2D(64, (3, 3), activation='relu', padding='same') (c6)\n",
    "\n",
    "    u7 = Conv2DTranspose(32, (2, 2), strides=(2, 2), padding='same') (c6)\n",
    "    u7 = concatenate([u7, c3])\n",
    "    u7 = Dropout(0.5)(u7)\n",
    "    c7 = Conv2D(32, (3, 3), activation='relu', padding='same') (u7)\n",
    "    c7 = Conv2D(32, (3, 3), activation='relu', padding='same') (c7)\n",
    "\n",
    "    u8 = Conv2DTranspose(16, (2, 2), strides=(2, 2), padding='same') (c7)\n",
    "    u8 = concatenate([u8, c2])\n",
    "    u8 = Dropout(0.5)(u8)\n",
    "    c8 = Conv2D(16, (3, 3), activation='relu', padding='same') (u8)\n",
    "    c8 = Conv2D(16, (3, 3), activation='relu', padding='same') (c8)\n",
    "\n",
    "    u9 = Conv2DTranspose(8, (2, 2), strides=(2, 2), padding='same') (c8)\n",
    "    u9 = concatenate([u9, c1], axis=3)\n",
    "    u9 = Dropout(0.5)(u9)\n",
    "    c9 = Conv2D(8, (3, 3), activation='relu', padding='same') (u9)\n",
    "    c9 = Conv2D(8, (3, 3), activation='relu', padding='same') (c9)\n",
    "\n",
    "    outputs = Conv2D(1, (1, 1), activation='sigmoid') (c9)\n",
    "\n",
    "    model = Model(inputs=[inputs], outputs=[outputs])\n",
    "    model.compile(optimizer='adam', loss='binary_crossentropy', metrics=['accuracy'])\n",
    "    return model"
   ]
  },
  {
   "cell_type": "code",
   "execution_count": 61,
   "metadata": {},
   "outputs": [],
   "source": [
    "def fit(model, X_train, Y_train, output_name):\n",
    "    earlystopper = EarlyStopping(patience=10, verbose=1)\n",
    "    checkpointer = ModelCheckpoint('{}.h5'.format(output_name), verbose=1, save_best_only=True)\n",
    "    reduce_lr = ReduceLROnPlateau(factor=0.1, patience=5, min_lr=0.00001, verbose=1)\n",
    "    \n",
    "    results = model.fit(X_train, Y_train, validation_data=[x_valid, y_valid], batch_size=128, epochs=100, \n",
    "                        callbacks=[earlystopper, checkpointer, reduce_lr])\n",
    "    return results"
   ]
  },
  {
   "cell_type": "code",
   "execution_count": 63,
   "metadata": {},
   "outputs": [
    {
     "name": "stdout",
     "output_type": "stream",
     "text": [
      "Train on 82800 samples, validate on 400 samples\n",
      "Epoch 1/100\n",
      "82800/82800 [==============================] - 72s 869us/step - loss: 0.4533 - acc: 0.8005 - val_loss: 0.3484 - val_acc: 0.8625\n",
      "\n",
      "Epoch 00001: val_loss improved from inf to 0.34842, saving model to model.h5\n",
      "Epoch 2/100\n",
      "82800/82800 [==============================] - 70s 840us/step - loss: 0.3401 - acc: 0.8642 - val_loss: 0.2693 - val_acc: 0.8974\n",
      "\n",
      "Epoch 00002: val_loss improved from 0.34842 to 0.26933, saving model to model.h5\n",
      "Epoch 3/100\n",
      "82800/82800 [==============================] - 70s 847us/step - loss: 0.2964 - acc: 0.8842 - val_loss: 0.2880 - val_acc: 0.8890\n",
      "\n",
      "Epoch 00003: val_loss did not improve from 0.26933\n",
      "Epoch 4/100\n",
      "82800/82800 [==============================] - 70s 851us/step - loss: 0.2727 - acc: 0.8933 - val_loss: 0.2228 - val_acc: 0.9181\n",
      "\n",
      "Epoch 00004: val_loss improved from 0.26933 to 0.22282, saving model to model.h5\n",
      "Epoch 5/100\n",
      "82800/82800 [==============================] - 71s 861us/step - loss: 0.2572 - acc: 0.9003 - val_loss: 0.2109 - val_acc: 0.9235\n",
      "\n",
      "Epoch 00005: val_loss improved from 0.22282 to 0.21089, saving model to model.h5\n",
      "Epoch 6/100\n",
      "82800/82800 [==============================] - 67s 810us/step - loss: 0.2447 - acc: 0.9056 - val_loss: 0.2043 - val_acc: 0.9221\n",
      "\n",
      "Epoch 00006: val_loss improved from 0.21089 to 0.20430, saving model to model.h5\n",
      "Epoch 7/100\n",
      "82800/82800 [==============================] - 67s 803us/step - loss: 0.2342 - acc: 0.9099 - val_loss: 0.1938 - val_acc: 0.9282\n",
      "\n",
      "Epoch 00007: val_loss improved from 0.20430 to 0.19383, saving model to model.h5\n",
      "Epoch 8/100\n",
      "82800/82800 [==============================] - 67s 804us/step - loss: 0.2255 - acc: 0.9130 - val_loss: 0.1913 - val_acc: 0.9246\n",
      "\n",
      "Epoch 00008: val_loss improved from 0.19383 to 0.19130, saving model to model.h5\n",
      "Epoch 9/100\n",
      "82800/82800 [==============================] - 67s 805us/step - loss: 0.2192 - acc: 0.9158 - val_loss: 0.1802 - val_acc: 0.9291\n",
      "\n",
      "Epoch 00009: val_loss improved from 0.19130 to 0.18017, saving model to model.h5\n",
      "Epoch 10/100\n",
      "82800/82800 [==============================] - 66s 802us/step - loss: 0.2113 - acc: 0.9189 - val_loss: 0.2131 - val_acc: 0.9158\n",
      "\n",
      "Epoch 00010: val_loss did not improve from 0.18017\n",
      "Epoch 11/100\n",
      "82800/82800 [==============================] - 67s 804us/step - loss: 0.2069 - acc: 0.9208 - val_loss: 0.1797 - val_acc: 0.9299\n",
      "\n",
      "Epoch 00011: val_loss improved from 0.18017 to 0.17966, saving model to model.h5\n",
      "Epoch 12/100\n",
      "82800/82800 [==============================] - 66s 803us/step - loss: 0.2034 - acc: 0.9220 - val_loss: 0.2104 - val_acc: 0.9184\n",
      "\n",
      "Epoch 00012: val_loss did not improve from 0.17966\n",
      "Epoch 13/100\n",
      "82800/82800 [==============================] - 66s 803us/step - loss: 0.1989 - acc: 0.9236 - val_loss: 0.1731 - val_acc: 0.9347\n",
      "\n",
      "Epoch 00013: val_loss improved from 0.17966 to 0.17307, saving model to model.h5\n",
      "Epoch 14/100\n",
      "82800/82800 [==============================] - 67s 803us/step - loss: 0.1971 - acc: 0.9243 - val_loss: 0.1726 - val_acc: 0.9270\n",
      "\n",
      "Epoch 00014: val_loss improved from 0.17307 to 0.17260, saving model to model.h5\n",
      "Epoch 15/100\n",
      "82800/82800 [==============================] - 66s 799us/step - loss: 0.1927 - acc: 0.9260 - val_loss: 0.1710 - val_acc: 0.9340\n",
      "\n",
      "Epoch 00015: val_loss improved from 0.17260 to 0.17099, saving model to model.h5\n",
      "Epoch 16/100\n",
      "82800/82800 [==============================] - 67s 806us/step - loss: 0.1886 - acc: 0.9272 - val_loss: 0.1776 - val_acc: 0.9345\n",
      "\n",
      "Epoch 00016: val_loss did not improve from 0.17099\n",
      "Epoch 17/100\n",
      "82800/82800 [==============================] - 67s 804us/step - loss: 0.1867 - acc: 0.9283 - val_loss: 0.1796 - val_acc: 0.9337\n",
      "\n",
      "Epoch 00017: val_loss did not improve from 0.17099\n",
      "Epoch 18/100\n",
      "82800/82800 [==============================] - 67s 804us/step - loss: 0.1830 - acc: 0.9297 - val_loss: 0.1748 - val_acc: 0.9333\n",
      "\n",
      "Epoch 00018: val_loss did not improve from 0.17099\n",
      "Epoch 19/100\n",
      "82800/82800 [==============================] - 66s 803us/step - loss: 0.1828 - acc: 0.9297 - val_loss: 0.1593 - val_acc: 0.9407\n",
      "\n",
      "Epoch 00019: val_loss improved from 0.17099 to 0.15934, saving model to model.h5\n",
      "Epoch 20/100\n",
      "82800/82800 [==============================] - 67s 804us/step - loss: 0.1789 - acc: 0.9315 - val_loss: 0.1679 - val_acc: 0.9318\n",
      "\n",
      "Epoch 00020: val_loss did not improve from 0.15934\n",
      "Epoch 21/100\n",
      "82800/82800 [==============================] - 67s 807us/step - loss: 0.1767 - acc: 0.9324 - val_loss: 0.1926 - val_acc: 0.9210\n",
      "\n",
      "Epoch 00021: val_loss did not improve from 0.15934\n",
      "Epoch 22/100\n",
      "82800/82800 [==============================] - 66s 802us/step - loss: 0.1746 - acc: 0.9331 - val_loss: 0.1946 - val_acc: 0.9262\n",
      "\n",
      "Epoch 00022: val_loss did not improve from 0.15934\n",
      "Epoch 23/100\n",
      "82800/82800 [==============================] - 66s 802us/step - loss: 0.1736 - acc: 0.9336 - val_loss: 0.1733 - val_acc: 0.9326\n",
      "\n",
      "Epoch 00023: val_loss did not improve from 0.15934\n",
      "Epoch 24/100\n",
      "82800/82800 [==============================] - 66s 802us/step - loss: 0.1689 - acc: 0.9354 - val_loss: 0.1702 - val_acc: 0.9317\n",
      "\n",
      "Epoch 00024: val_loss did not improve from 0.15934\n",
      "\n",
      "Epoch 00024: ReduceLROnPlateau reducing learning rate to 0.00010000000474974513.\n",
      "Epoch 25/100\n",
      "82800/82800 [==============================] - 66s 803us/step - loss: 0.1541 - acc: 0.9408 - val_loss: 0.1531 - val_acc: 0.9399\n",
      "\n",
      "Epoch 00025: val_loss improved from 0.15934 to 0.15308, saving model to model.h5\n",
      "Epoch 26/100\n",
      "82800/82800 [==============================] - 66s 801us/step - loss: 0.1499 - acc: 0.9425 - val_loss: 0.1631 - val_acc: 0.9366\n",
      "\n",
      "Epoch 00026: val_loss did not improve from 0.15308\n",
      "Epoch 27/100\n",
      "82800/82800 [==============================] - 67s 806us/step - loss: 0.1487 - acc: 0.9430 - val_loss: 0.1632 - val_acc: 0.9368\n",
      "\n",
      "Epoch 00027: val_loss did not improve from 0.15308\n",
      "Epoch 28/100\n",
      "82800/82800 [==============================] - 66s 801us/step - loss: 0.1486 - acc: 0.9429 - val_loss: 0.1629 - val_acc: 0.9366\n",
      "\n",
      "Epoch 00028: val_loss did not improve from 0.15308\n",
      "Epoch 29/100\n",
      "82800/82800 [==============================] - 66s 801us/step - loss: 0.1480 - acc: 0.9433 - val_loss: 0.1662 - val_acc: 0.9352\n",
      "\n",
      "Epoch 00029: val_loss did not improve from 0.15308\n",
      "Epoch 30/100\n",
      "82800/82800 [==============================] - 66s 801us/step - loss: 0.1471 - acc: 0.9438 - val_loss: 0.1694 - val_acc: 0.9333\n",
      "\n",
      "Epoch 00030: val_loss did not improve from 0.15308\n",
      "\n",
      "Epoch 00030: ReduceLROnPlateau reducing learning rate to 1.0000000474974514e-05.\n",
      "Epoch 31/100\n",
      "82800/82800 [==============================] - 66s 801us/step - loss: 0.1452 - acc: 0.9444 - val_loss: 0.1661 - val_acc: 0.9350\n",
      "\n",
      "Epoch 00031: val_loss did not improve from 0.15308\n",
      "Epoch 32/100\n",
      "82800/82800 [==============================] - 66s 802us/step - loss: 0.1458 - acc: 0.9441 - val_loss: 0.1658 - val_acc: 0.9354\n",
      "\n",
      "Epoch 00032: val_loss did not improve from 0.15308\n",
      "Epoch 33/100\n",
      "82800/82800 [==============================] - 66s 801us/step - loss: 0.1447 - acc: 0.9444 - val_loss: 0.1662 - val_acc: 0.9353\n",
      "\n",
      "Epoch 00033: val_loss did not improve from 0.15308\n",
      "Epoch 34/100\n",
      "82800/82800 [==============================] - 66s 801us/step - loss: 0.1451 - acc: 0.9443 - val_loss: 0.1654 - val_acc: 0.9356\n",
      "\n",
      "Epoch 00034: val_loss did not improve from 0.15308\n",
      "Epoch 35/100\n",
      "82800/82800 [==============================] - 66s 802us/step - loss: 0.1452 - acc: 0.9444 - val_loss: 0.1645 - val_acc: 0.9358\n",
      "\n",
      "Epoch 00035: val_loss did not improve from 0.15308\n",
      "\n",
      "Epoch 00035: ReduceLROnPlateau reducing learning rate to 1e-05.\n",
      "Epoch 00035: early stopping\n",
      "CPU times: user 23min 35s, sys: 8min 30s, total: 32min 5s\n",
      "Wall time: 39min 12s\n"
     ]
    }
   ],
   "source": [
    "%%time\n",
    "amodel = create_model()\n",
    "history = fit(amodel, x_train_, y_train_, 'model')"
   ]
  },
  {
   "cell_type": "code",
   "execution_count": 64,
   "metadata": {},
   "outputs": [
    {
     "data": {
      "text/plain": [
       "[<matplotlib.lines.Line2D at 0x7fe1a8248048>]"
      ]
     },
     "execution_count": 64,
     "metadata": {},
     "output_type": "execute_result"
    },
    {
     "data": {
      "image/png": "[encoded data removed]",
      "text/plain": [
       "<Figure size 1080x360 with 2 Axes>"
      ]
     },
     "metadata": {},
     "output_type": "display_data"
    }
   ],
   "source": [
    "fig, (ax_loss, ax_acc) = plt.subplots(1, 2, figsize=(15,5))\n",
    "ax_loss.plot(history.epoch, history.history[\"loss\"], label=\"Train loss\")\n",
    "ax_loss.plot(history.epoch, history.history[\"val_loss\"], label=\"Validation loss\")\n",
    "ax_acc.plot(history.epoch, history.history[\"acc\"], label=\"Train accuracy\")\n",
    "ax_acc.plot(history.epoch, history.history[\"val_acc\"], label=\"Validation accuracy\")"
   ]
  },
  {
   "cell_type": "code",
   "execution_count": 65,
   "metadata": {},
   "outputs": [],
   "source": [
    "model = load_model('model.h5')"
   ]
  },
  {
   "cell_type": "code",
   "execution_count": 66,
   "metadata": {},
   "outputs": [],
   "source": [
    "def downsample(img):\n",
    "    return resize(img, (img_size_ori, img_size_ori), mode='constant', preserve_range=True)"
   ]
  },
  {
   "cell_type": "code",
   "execution_count": 67,
   "metadata": {},
   "outputs": [],
   "source": [
    "preds_valid = model.predict(x_valid).reshape(-1, im_height, im_width)"
   ]
  },
  {
   "cell_type": "code",
   "execution_count": 68,
   "metadata": {},
   "outputs": [
    {
     "data": {
      "text/plain": [
       "Text(0.5,0.98,'Green: salt, Red: prediction. Top-left: coverage class, top-right: salt coverage, bottom-left: depth')"
      ]
     },
     "execution_count": 68,
     "metadata": {},
     "output_type": "execute_result"
    },
    {
     "data": {
      "image/png": "[encoded data removed]",
      "text/plain": [
       "<Figure size 1080x216 with 20 Axes>"
      ]
     },
     "metadata": {},
     "output_type": "display_data"
    }
   ],
   "source": [
    "max_images = 20\n",
    "grid_width = 10\n",
    "grid_height = int(max_images / grid_width)\n",
    "fig, axs = plt.subplots(grid_height, grid_width, figsize=(15,3))\n",
    "for idx in range(max_images):\n",
    "    img = x_valid[idx]\n",
    "    mask = y_valid[idx]\n",
    "    pred = preds_valid[idx]\n",
    "    \n",
    "    ax = axs[int(idx / grid_width), idx % grid_width]\n",
    "    ax.imshow(img.squeeze(), cmap=\"Greys\")\n",
    "    ax.imshow(mask.squeeze(), alpha=0.3, cmap=\"Greens\")\n",
    "    ax.imshow(pred, alpha=0.3, cmap=\"OrRd\")\n",
    "    ax.set_yticklabels([])\n",
    "    ax.set_xticklabels([])\n",
    "plt.suptitle(\"Green: salt, Red: prediction. Top-left: coverage class, top-right: salt coverage, bottom-left: depth\")"
   ]
  },
  {
   "cell_type": "code",
   "execution_count": 69,
   "metadata": {},
   "outputs": [
    {
     "data": {
      "application/vnd.jupyter.widget-view+json": {
       "model_id": "89577f2aff104c438370baf459e218b8",
       "version_major": 2,
       "version_minor": 0
      },
      "text/plain": [
       "HBox(children=(IntProgress(value=0, max=50), HTML(value='')))"
      ]
     },
     "metadata": {},
     "output_type": "display_data"
    },
    {
     "name": "stdout",
     "output_type": "stream",
     "text": [
      "\n"
     ]
    }
   ],
   "source": [
    "def iou_metric(y_true_in, y_pred_in, print_table=False):\n",
    "    labels = y_true_in\n",
    "    y_pred = y_pred_in\n",
    "    \n",
    "    true_objects = 2\n",
    "    pred_objects = 2\n",
    "\n",
    "    intersection = np.histogram2d(labels.flatten(), y_pred.flatten(), bins=(true_objects, pred_objects))[0]\n",
    "\n",
    "    # Compute areas (needed for finding the union between all objects)\n",
    "    area_true = np.histogram(labels, bins = true_objects)[0]\n",
    "    area_pred = np.histogram(y_pred, bins = pred_objects)[0]\n",
    "    area_true = np.expand_dims(area_true, -1)\n",
    "    area_pred = np.expand_dims(area_pred, 0)\n",
    "\n",
    "    # Compute union\n",
    "    union = area_true + area_pred - intersection\n",
    "\n",
    "    # Exclude background from the analysis\n",
    "    intersection = intersection[1:,1:]\n",
    "    union = union[1:,1:]\n",
    "    union[union == 0] = 1e-9\n",
    "\n",
    "    # Compute the intersection over union\n",
    "    iou = intersection / union\n",
    "\n",
    "    # Precision helper function\n",
    "    def precision_at(threshold, iou):\n",
    "        matches = iou > threshold\n",
    "        true_positives = np.sum(matches, axis=1) == 1   # Correct objects\n",
    "        false_positives = np.sum(matches, axis=0) == 0  # Missed objects\n",
    "        false_negatives = np.sum(matches, axis=1) == 0  # Extra objects\n",
    "        tp, fp, fn = np.sum(true_positives), np.sum(false_positives), np.sum(false_negatives)\n",
    "        return tp, fp, fn\n",
    "\n",
    "    # Loop over IoU thresholds\n",
    "    prec = []\n",
    "    if print_table:\n",
    "        print(\"Thresh\\tTP\\tFP\\tFN\\tPrec.\")\n",
    "    for t in np.arange(0.5, 1.0, 0.05):\n",
    "        tp, fp, fn = precision_at(t, iou)\n",
    "        if (tp + fp + fn) > 0:\n",
    "            p = tp / (tp + fp + fn)\n",
    "        else:\n",
    "            p = 0\n",
    "        if print_table:\n",
    "            print(\"{:1.3f}\\t{}\\t{}\\t{}\\t{:1.3f}\".format(t, tp, fp, fn, p))\n",
    "        prec.append(p)\n",
    "    \n",
    "    if print_table:\n",
    "        print(\"AP\\t-\\t-\\t-\\t{:1.3f}\".format(np.mean(prec)))\n",
    "    return np.mean(prec)\n",
    "\n",
    "def iou_metric_batch(y_true_in, y_pred_in):\n",
    "    batch_size = y_true_in.shape[0]\n",
    "    metric = []\n",
    "    for batch in range(batch_size):\n",
    "        value = iou_metric(y_true_in[batch], y_pred_in[batch])\n",
    "        metric.append(value)\n",
    "    return np.mean(metric)\n",
    "\n",
    "thresholds = np.linspace(0, 1, 50)\n",
    "ious = np.array([iou_metric_batch(y_valid, np.int32(preds_valid > threshold)) for threshold in tqdm_notebook(thresholds)])"
   ]
  },
  {
   "cell_type": "code",
   "execution_count": 70,
   "metadata": {},
   "outputs": [],
   "source": [
    "threshold_best_index = np.argmax(ious[9:-10]) + 9\n",
    "iou_best = ious[threshold_best_index]\n",
    "threshold_best = thresholds[threshold_best_index]"
   ]
  },
  {
   "cell_type": "code",
   "execution_count": 71,
   "metadata": {},
   "outputs": [
    {
     "data": {
      "text/plain": [
       "<matplotlib.legend.Legend at 0x7fe101231fd0>"
      ]
     },
     "execution_count": 71,
     "metadata": {},
     "output_type": "execute_result"
    },
    {
     "data": {
      "image/png": "[encoded data removed]",
      "text/plain": [
       "<Figure size 432x288 with 1 Axes>"
      ]
     },
     "metadata": {},
     "output_type": "display_data"
    }
   ],
   "source": [
    "plt.plot(thresholds, ious)\n",
    "plt.plot(threshold_best, iou_best, \"xr\", label=\"Best threshold\")\n",
    "plt.xlabel(\"Threshold\")\n",
    "plt.ylabel(\"IoU\")\n",
    "plt.title(\"Threshold vs IoU ({}, {})\".format(threshold_best, iou_best))\n",
    "plt.legend()"
   ]
  },
  {
   "cell_type": "code",
   "execution_count": 72,
   "metadata": {},
   "outputs": [
    {
     "name": "stdout",
     "output_type": "stream",
     "text": [
      "Getting and resizing test images ... \n"
     ]
    },
    {
     "data": {
      "application/vnd.jupyter.widget-view+json": {
       "model_id": "cd5a301ccf1b462ca1c41d6ef72bff19",
       "version_major": 2,
       "version_minor": 0
      },
      "text/plain": [
       "HBox(children=(IntProgress(value=0, max=18000), HTML(value='')))"
      ]
     },
     "metadata": {},
     "output_type": "display_data"
    },
    {
     "name": "stderr",
     "output_type": "stream",
     "text": [
      "/usr/local/lib/python3.5/dist-packages/skimage/transform/_warps.py:110: UserWarning: Anti-aliasing will be enabled by default in skimage 0.15 to avoid aliasing artifacts when down-sampling images.\n",
      "  warn(\"Anti-aliasing will be enabled by default in skimage 0.15 to \"\n"
     ]
    },
    {
     "name": "stdout",
     "output_type": "stream",
     "text": [
      "\n",
      "Done!\n",
      "18000/18000 [==============================] - 5s 302us/step\n"
     ]
    }
   ],
   "source": [
    "X_test = np.zeros((len(test_ids), im_height, im_width, im_chan), dtype=np.uint8)\n",
    "\n",
    "sizes_test = []\n",
    "print('Getting and resizing test images ... ')\n",
    "sys.stdout.flush()\n",
    "for n, id_ in enumerate(tqdm_notebook(test_ids)):\n",
    "    path = path_test\n",
    "    img = load_img(path + '/images/' + id_)\n",
    "    x = img_to_array(img)[:,:,1]\n",
    "    sizes_test.append([x.shape[0], x.shape[1]])\n",
    "    x = resize(x, (128, 128, 1), mode='constant', preserve_range=True)\n",
    "    X_test[n] = x\n",
    "\n",
    "print('Done!')\n",
    "\n",
    "preds_test = (model.predict(X_test, verbose=1) > threshold_best).astype(np.uint8)\n",
    "\n",
    "# Create list of upsampled test masks\n",
    "preds_test_upsampled = [np.squeeze(downsample(x)) for x in preds_test]"
   ]
  },
  {
   "cell_type": "code",
   "execution_count": 73,
   "metadata": {},
   "outputs": [
    {
     "data": {
      "application/vnd.jupyter.widget-view+json": {
       "model_id": "9049eb2970cf45dabe890b372f8e2fca",
       "version_major": 2,
       "version_minor": 0
      },
      "text/plain": [
       "HBox(children=(IntProgress(value=0, max=18000), HTML(value='')))"
      ]
     },
     "metadata": {},
     "output_type": "display_data"
    },
    {
     "name": "stdout",
     "output_type": "stream",
     "text": [
      "\n"
     ]
    }
   ],
   "source": [
    "def RLenc(img, order='F', format=True):\n",
    "    \"\"\"\n",
    "    img is binary mask image, shape (r,c)\n",
    "    order is down-then-right, i.e. Fortran\n",
    "    format determines if the order needs to be preformatted (according to submission rules) or not\n",
    "\n",
    "    returns run length as an array or string (if format is True)\n",
    "    \"\"\"\n",
    "    bytes = img.reshape(img.shape[0] * img.shape[1], order=order)\n",
    "    runs = []  ## list of run lengths\n",
    "    r = 0  ## the current run length\n",
    "    pos = 1  ## count starts from 1 per WK\n",
    "    for c in bytes:\n",
    "        if (c == 0):\n",
    "            if r != 0:\n",
    "                runs.append((pos, r))\n",
    "                pos += r\n",
    "                r = 0\n",
    "            pos += 1\n",
    "        else:\n",
    "            r += 1\n",
    "\n",
    "    # if last run is unsaved (i.e. data ends with 1)\n",
    "    if r != 0:\n",
    "        runs.append((pos, r))\n",
    "        pos += r\n",
    "        r = 0\n",
    "\n",
    "    if format:\n",
    "        z = ''\n",
    "\n",
    "        for rr in runs:\n",
    "            z += '{} {} '.format(rr[0], rr[1])\n",
    "        return z[:-1]\n",
    "    else:\n",
    "        return runs\n",
    "\n",
    "pred_dict = {fn[:-4]:RLenc(np.round(preds_test_upsampled[i])) for i,fn in enumerate(tqdm_notebook(test_ids))}"
   ]
  },
  {
   "cell_type": "code",
   "execution_count": 74,
   "metadata": {},
   "outputs": [],
   "source": [
    "sub = pd.DataFrame.from_dict(pred_dict,orient='index')\n",
    "sub.index.names = ['id']\n",
    "sub.columns = ['rle_mask']\n",
    "sub.to_csv('submission.csv')"
   ]
  },
  {
   "cell_type": "code",
   "execution_count": null,
   "metadata": {},
   "outputs": [],
   "source": []
  }
 ],
 "metadata": {
  "kernelspec": {
   "display_name": "Python 3",
   "language": "python",
   "name": "python3"
  },
  "language_info": {
   "codemirror_mode": {
    "name": "ipython",
    "version": 3
   },
   "file_extension": ".py",
   "mimetype": "text/x-python",
   "name": "python",
   "nbconvert_exporter": "python",
   "pygments_lexer": "ipython3",
   "version": "3.5.2"
  }
 },
 "nbformat": 4,
 "nbformat_minor": 2
}
